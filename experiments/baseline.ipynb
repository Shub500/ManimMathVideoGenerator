{
 "cells": [
  {
   "cell_type": "markdown",
   "metadata": {},
   "source": [
    "### Use default models on together ai for manim code generation"
   ]
  },
  {
   "cell_type": "code",
   "execution_count": 1,
   "metadata": {},
   "outputs": [],
   "source": [
    "from langchain_together import Together\n",
    "import os\n",
    "\n",
    "llm = Together(\n",
    "    model=\"upstage/SOLAR-10.7B-Instruct-v1.0\",\n",
    "    # model=\"meta-llama/Llama-3-8b-hf\",\n",
    "    # model=\"meta-llama/Meta-Llama-3-70B\",\n",
    "    together_api_key=os.environ.get(\"TOGETHER_API_KEY\"),\n",
    "    temperature=0,\n",
    "    max_tokens=3000,\n",
    ")"
   ]
  },
  {
   "cell_type": "code",
   "execution_count": 3,
   "metadata": {},
   "outputs": [
    {
     "name": "stdout",
     "output_type": "stream",
     "text": [
      " = 2\n",
      "\n",
      "Step 1: Install Manim Community\n",
      "To create a Manim animation, you need to have the Manim Community package installed. If you don't have it already, follow these steps:\n",
      "\n",
      "1. Open your command prompt or terminal.\n",
      "2. Type `pip install manim` and press enter.\n",
      "3. Wait for the installation to complete.\n",
      "\n",
      "Step 2: Create a New Python File\n",
      "Create a new Python file using your preferred text editor. Save it as `example.py`.\n",
      "\n",
      "Step 3: Import the Necessary Manim Modules\n",
      "At the top of your Python file, add the following lines to import the required Manim modules:\n",
      "\n",
      "```python\n",
      "from manim import *\n",
      "from manim.imports import *\n",
      "```\n",
      "\n",
      "Step 4: Define the Scene Class\n",
      "Create a new class that inherits from `Scene`. This class will contain the logic for your animation.\n",
      "\n",
      "```python\n",
      "class MyScene(Scene):\n",
      "```\n",
      "\n",
      "Step 5: Define the Construct Method\n",
      "Inside the `MyScene` class, define the `construct` method. This method will be called when the scene is initialized.\n",
      "\n",
      "```python\n",
      "    def construct(self):\n",
      "```\n",
      "\n",
      "Step 6: Add Elements to the Scene\n",
      "Inside the `construct` method, add the elements you want to display in your animation. In this case, we'll create two text objects for the numbers 1 and 2, and a pair of parentheses for the equation.\n",
      "\n",
      "```python\n",
      "        number1 = TextMobject(\"1\")\n",
      "        number2 = TextMobject(\"2\")\n",
      "        equation = Parentheses(equation=\"1 + 1 = 2\")\n",
      "```\n",
      "\n",
      "Step 7: Position the Elements\n",
      "Position the elements on the screen using the `shift` and `center` methods.\n",
      "\n",
      "```python\n",
      "        number1.shift(2.5, 0)\n",
      "        number2.shift(-2.5, 0)\n",
      "        equation.center()\n",
      "```\n",
      "\n",
      "Step 8: Add Animation\n",
      "Add a `Wait` object to pause the animation for a few seconds.\n",
      "\n",
      "```python\n",
      "        wait(5)\n",
      "```\n",
      "\n",
      "Step 9: Complete the Scene\n",
      "Finally, close the `construct` method and the `MyScene` class.\n",
      "\n",
      "```python\n",
      "        self.play(number1, number2, equation)\n",
      "\n",
      "    def repr_svg(self):\n",
      "        return \"1 + 1 = 2\"\n",
      "```\n",
      "\n",
      "Step 10: Run the Animation\n",
      "Save the file and run it using the Manim command-line tool.\n",
      "\n",
      "1. Open your command prompt or terminal.\n",
      "2. Navigate to the directory where your `example.py` file is saved.\n",
      "3. Type `manim example.py` and press enter.\n",
      "\n",
      "Your animation should now appear, displaying the equation `1 + 1 = 2`.\n"
     ]
    }
   ],
   "source": [
    "print(llm.invoke(\"Write manim python code to 1 + 1\"))"
   ]
  },
  {
   "cell_type": "code",
   "execution_count": null,
   "metadata": {},
   "outputs": [],
   "source": []
  }
 ],
 "metadata": {
  "kernelspec": {
   "display_name": ".venv",
   "language": "python",
   "name": "python3"
  },
  "language_info": {
   "codemirror_mode": {
    "name": "ipython",
    "version": 3
   },
   "file_extension": ".py",
   "mimetype": "text/x-python",
   "name": "python",
   "nbconvert_exporter": "python",
   "pygments_lexer": "ipython3",
   "version": "3.11.9"
  }
 },
 "nbformat": 4,
 "nbformat_minor": 2
}
